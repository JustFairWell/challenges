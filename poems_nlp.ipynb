{
 "cells": [
  {
   "cell_type": "code",
   "execution_count": 385,
   "metadata": {},
   "outputs": [],
   "source": [
    "import pandas as pd\n",
    "import matplotlib.pyplot as plt\n",
    "import numpy as np\n",
    "import spacy\n",
    "import seaborn as sns\n",
    "from nltk.corpus import stopwords, gutenberg\n",
    "from collections import Counter\n",
    "import re\n",
    "import scipy\n",
    "import nltk"
   ]
  },
  {
   "cell_type": "code",
   "execution_count": 386,
   "metadata": {},
   "outputs": [],
   "source": [
    "per_15 = ['truth_chaucer', 'to_rosemounde_chaucer', 'troilus_criseyde_chaucer', \n",
    "          'phillip_sparrow_skelton', 'mannerly_skelton', 'mistress_hussey_skelton',\n",
    "          'tunning_rumming_skelton', 'womanhood_skelton', 'blow_northerne_anon', \n",
    "          'younger_sister_anon', 'st_stephen_anon']\n",
    "per_16_17 = ['phoenix_turtle_shakespeare','sonnet_18_shakespeare', 'sonnet_25_shakespeare', \n",
    "             'sonnet_87_shakespeare','sonnet_71_shakespeare', 'at_a_solemn_milton', 'on_shakespeare_milton',\n",
    "             'sonnet_7_milton', 'lallegro_milton', 'elegy_to_memory_pope', 'you_know_where_pope',\n",
    "             'universal_prayer_pope', 'ode_solitude_pope']\n",
    "per_18 = ['america_whitman', 'i_hear_america_whitman', 'o_captian_whitman', 'ebbd_whitman', \n",
    "          'out_of_cradle_whitman', '340_dickinson', \n",
    "          '355_dickinson', '479_dickinson', '1325_dickinson', 'song_experience_blake',\n",
    "          'song_innocence_blake', 'smile_blake', 'love_and_death_byron', 'walks_beauty_byron',\n",
    "          'darkness_byron', 'dear_doctor_byron']\n",
    "per_19_1 =['of_mere_stevens', 'snowman_stevens', 'key_west_stevens', 'modern_poetry_stevens', \n",
    "           'portrait_lady_eliot', 'sweeney_eliot', 'if_kipling', 'children_kipling', \n",
    "           'city_sleep_kipilng', 'for_all_kipling', 'between_walls_wcw', 'red_wheelbarrow_wcw', \n",
    "           'love_song_wcw', 'ball_game_wcw', 'all_in_green_cummings', 'in_just_cummings', \n",
    "           'kitty_cummings', 'o_sweet_cummings', 'into_sternuous_cummings']\n",
    "per_19_2 = [ 'howl_ginsberg', 'homework_ginsberg', 'sad_self_ginsberg', \n",
    "             'sunflower_ginsberg', 'america_ginsberg', 'fever_plath', \n",
    "             'ariel_plath', 'edge_plath', 'morning_song_plath', 'colossus_plath', \n",
    "             'caged_angelou', 'still_i_angelou', 'mothering_blackness_angelou', \n",
    "             'phenom_woman_angelou','personal_ohara', 'ave_maria_ohara', 'the_day_ohara']\n",
    "\n",
    "files = ['truth_chaucer', 'to_rosemounde_chaucer', 'troilus_criseyde_chaucer', \n",
    "            'phillip_sparrow_skelton', 'mannerly_skelton', 'mistress_hussey_skelton',\n",
    "            'tunning_rumming_skelton', 'womanhood_skelton', 'blow_northerne_anon', \n",
    "             'younger_sister_anon', 'st_stephen_anon', 'phoenix_turtle_shakespeare','sonnet_18_shakespeare', 'sonnet_25_shakespeare', \n",
    "             'sonnet_87_shakespeare','sonnet_71_shakespeare', 'at_a_solemn_milton', 'on_shakespeare_milton',\n",
    "             'sonnet_7_milton', 'lallegro_milton', 'elegy_to_memory_pope', 'you_know_where_pope',\n",
    "             'universal_prayer_pope', 'ode_solitude_pope','america_whitman', 'i_hear_america_whitman', 'o_captian_whitman', 'ebbd_whitman', \n",
    "          'out_of_cradle_whitman', '340_dickinson', \n",
    "         '355_dickinson', '479_dickinson', '1325_dickinson', 'song_experience_blake',\n",
    "         'song_innocence_blake', 'smile_blake', 'love_and_death_byron', 'walks_beauty_byron',\n",
    "         'darkness_byron', 'dear_doctor_byron', 'of_mere_stevens', 'snowman_stevens', \n",
    "         'key_west_stevens', 'modern_poetry_stevens', \n",
    "         'portrait_lady_eliot', 'sweeney_eliot', 'if_kipling', 'children_kipling', \n",
    "         'city_sleep_kipilng', 'for_all_kipling', 'between_walls_wcw', 'red_wheelbarrow_wcw', \n",
    "          'love_song_wcw', 'ball_game_wcw', 'all_in_green_cummings', 'in_just_cummings', \n",
    "         'kitty_cummings', 'o_sweet_cummings', 'into_sternuous_cummings',  'howl_ginsberg', 'homework_ginsberg', 'sad_self_ginsberg', 'sunflower_ginsberg', 'america_ginsberg',\n",
    "             'fever_plath', 'ariel_plath', 'edge_plath', 'morning_song_plath', 'colossus_plath', \n",
    "             'caged_angelou', 'still_i_angelou', 'mothering_blackness_angelou', 'phenom_woman_angelou',\n",
    "             'personal_ohara', 'ave_maria_ohara', 'the_day_ohara']\n",
    "         "
   ]
  },
  {
   "cell_type": "code",
   "execution_count": 387,
   "metadata": {},
   "outputs": [],
   "source": [
    "filedata = {file: open('C:\\\\Users\\\\justf\\\\Desktop\\\\txtfiles\\\\' + file + '.txt', 'r') for file \n",
    "            in files}"
   ]
  },
  {
   "cell_type": "code",
   "execution_count": 388,
   "metadata": {},
   "outputs": [],
   "source": [
    "author = []\n",
    "title = []\n",
    "period = []\n",
    "columns = []\n",
    "text = []"
   ]
  },
  {
   "cell_type": "code",
   "execution_count": 389,
   "metadata": {},
   "outputs": [],
   "source": [
    "def text_and_split(files):\n",
    "    \n",
    "    for file in files:\n",
    "        poem = filedata[file].read()\n",
    "        split = file.split('_')\n",
    "        name = split[-1]\n",
    "        work = split[:-1]\n",
    "        text.append(poem)\n",
    "        author.append(name)\n",
    "        title.append(work)"
   ]
  },
  {
   "cell_type": "code",
   "execution_count": 390,
   "metadata": {},
   "outputs": [],
   "source": [
    "text_and_split(per_15)"
   ]
  },
  {
   "cell_type": "code",
   "execution_count": 391,
   "metadata": {},
   "outputs": [],
   "source": [
    "text_and_split(per_16_17)"
   ]
  },
  {
   "cell_type": "code",
   "execution_count": 392,
   "metadata": {},
   "outputs": [],
   "source": [
    "text_and_split(per_18)"
   ]
  },
  {
   "cell_type": "code",
   "execution_count": 393,
   "metadata": {},
   "outputs": [],
   "source": [
    "text_and_split(per_19_1)"
   ]
  },
  {
   "cell_type": "code",
   "execution_count": 394,
   "metadata": {},
   "outputs": [],
   "source": [
    "text_and_split(per_19_2\n",
    "              )"
   ]
  },
  {
   "cell_type": "code",
   "execution_count": 395,
   "metadata": {},
   "outputs": [],
   "source": [
    "col_per = ['period 15','period 15','period 15','period 15','period 15',\n",
    "           'period 15','period 15','period 15','period 15','period 15','period 15','period 16/17',\n",
    "           'period 16/17','period 16/17','period 16/17','period 16/17','period 16/17',\n",
    "           'period 16/17','period 16/17','period 16/17','period 16/17','period 16/17',\n",
    "           'period 16/17','period 16/17','period 18','period 18','period 18','period 18',\n",
    "           'period 18','period 18','period 18','period 18','period 18','period 18',\n",
    "           'period 18','period 18','period 18','period 18','period 18','period 18','period 19_1', \n",
    "           'period 19_1','period 19_1','period 19_1','period 19_1','period 19_1','period 19_1',\n",
    "           'period 19_1','period 19_1','period 19_1','period 19_1','period 19_1','period 19_1',\n",
    "           'period 19_1','period 19_1','period 19_1','period 19_1','period 19_1','period 19_1',\n",
    "           'period 19_2', 'period 19_2','period 19_2','period 19_2','period 19_2','period 19_2',\n",
    "           'period 19_2','period 19_2','period 19_2','period 19_2','period 19_2','period 19_2',\n",
    "           'period 19_2','period 19_2','period 19_2','period 19_2','period 19_2']"
   ]
  },
  {
   "cell_type": "code",
   "execution_count": 396,
   "metadata": {},
   "outputs": [],
   "source": [
    "def cleaner(text):\n",
    "    text = re.sub('[ï»¿]', '', text)\n",
    "    text = re.sub('[â€™]', '', text)\n",
    "    text = re.sub('[ã©]', '', text)\n",
    "    text = text.lower()\n",
    "    return text"
   ]
  },
  {
   "cell_type": "code",
   "execution_count": 397,
   "metadata": {},
   "outputs": [],
   "source": [
    "clean_text = []\n",
    "for i in range(len(text)):\n",
    "    clean = cleaner(text[i])\n",
    "    clean_text.append(clean)"
   ]
  },
  {
   "cell_type": "code",
   "execution_count": 398,
   "metadata": {},
   "outputs": [],
   "source": [
    "line_splits = []\n",
    "for i in range(76):\n",
    "    lines = clean_text[i].split('\\n\\n')\n",
    "    line_splits.append(lines)"
   ]
  },
  {
   "cell_type": "code",
   "execution_count": 403,
   "metadata": {},
   "outputs": [],
   "source": [
    "line_split_clean = []\n",
    "for i in range(len(line_splits)):\n",
    "    for j in range(len(line_splits[i])):\n",
    "        lines = ' '.join(line_splits[i][j].split())\n",
    "        line_split_clean.append(lines)"
   ]
  },
  {
   "cell_type": "code",
   "execution_count": 369,
   "metadata": {},
   "outputs": [],
   "source": [
    "period = col_per"
   ]
  },
  {
   "cell_type": "code",
   "execution_count": 370,
   "metadata": {},
   "outputs": [],
   "source": [
    "df = pd.DataFrame({'poem':clean_text, 'author': author, 'period': period, 'title': title})"
   ]
  },
  {
   "cell_type": "code",
   "execution_count": 371,
   "metadata": {},
   "outputs": [],
   "source": [
    "title_join = []\n",
    "for i in range(len(title)):\n",
    "    work = ''.join(title[i])\n",
    "    title_join.append(work)"
   ]
  },
  {
   "cell_type": "code",
   "execution_count": 372,
   "metadata": {},
   "outputs": [],
   "source": [
    "df['title'] = title_join"
   ]
  },
  {
   "cell_type": "code",
   "execution_count": 409,
   "metadata": {},
   "outputs": [],
   "source": [
    "df_2 = pd.DataFrame(line_splits)\n",
    "df_2['title'] = title_join"
   ]
  },
  {
   "cell_type": "code",
   "execution_count": 412,
   "metadata": {
    "scrolled": false
   },
   "outputs": [],
   "source": [
    "df_3 = pd.merge(df, df_2, on='title')"
   ]
  },
  {
   "cell_type": "code",
   "execution_count": 408,
   "metadata": {},
   "outputs": [
    {
     "data": {
      "text/plain": [
       "76"
      ]
     },
     "execution_count": 408,
     "metadata": {},
     "output_type": "execute_result"
    }
   ],
   "source": [
    "len(line_splits)"
   ]
  },
  {
   "cell_type": "code",
   "execution_count": 423,
   "metadata": {},
   "outputs": [],
   "source": [
    "set_index = df_3.set_index('title')"
   ]
  },
  {
   "cell_type": "code",
   "execution_count": 424,
   "metadata": {},
   "outputs": [
    {
     "data": {
      "text/html": [
       "<div>\n",
       "<style scoped>\n",
       "    .dataframe tbody tr th:only-of-type {\n",
       "        vertical-align: middle;\n",
       "    }\n",
       "\n",
       "    .dataframe tbody tr th {\n",
       "        vertical-align: top;\n",
       "    }\n",
       "\n",
       "    .dataframe thead th {\n",
       "        text-align: right;\n",
       "    }\n",
       "</style>\n",
       "<table border=\"1\" class=\"dataframe\">\n",
       "  <thead>\n",
       "    <tr style=\"text-align: right;\">\n",
       "      <th></th>\n",
       "      <th>poem</th>\n",
       "      <th>author</th>\n",
       "      <th>period</th>\n",
       "      <th>0</th>\n",
       "      <th>1</th>\n",
       "      <th>2</th>\n",
       "      <th>3</th>\n",
       "      <th>4</th>\n",
       "      <th>5</th>\n",
       "      <th>6</th>\n",
       "      <th>...</th>\n",
       "      <th>26</th>\n",
       "      <th>27</th>\n",
       "      <th>28</th>\n",
       "      <th>29</th>\n",
       "      <th>30</th>\n",
       "      <th>31</th>\n",
       "      <th>32</th>\n",
       "      <th>33</th>\n",
       "      <th>34</th>\n",
       "      <th>35</th>\n",
       "    </tr>\n",
       "    <tr>\n",
       "      <th>title</th>\n",
       "      <th></th>\n",
       "      <th></th>\n",
       "      <th></th>\n",
       "      <th></th>\n",
       "      <th></th>\n",
       "      <th></th>\n",
       "      <th></th>\n",
       "      <th></th>\n",
       "      <th></th>\n",
       "      <th></th>\n",
       "      <th></th>\n",
       "      <th></th>\n",
       "      <th></th>\n",
       "      <th></th>\n",
       "      <th></th>\n",
       "      <th></th>\n",
       "      <th></th>\n",
       "      <th></th>\n",
       "      <th></th>\n",
       "      <th></th>\n",
       "      <th></th>\n",
       "    </tr>\n",
       "  </thead>\n",
       "  <tbody>\n",
       "    <tr>\n",
       "      <th>truth</th>\n",
       "      <td>fle fro the pres, and dwelle with sothefastnes...</td>\n",
       "      <td>chaucer</td>\n",
       "      <td>period 15</td>\n",
       "      <td>fle fro the pres, and dwelle with sothefastnes...</td>\n",
       "      <td>tempest the nought al croked to redresse,\\nin ...</td>\n",
       "      <td>that the is sent, receyve in buxumnesse;...</td>\n",
       "      <td>therfore, thou vache, leve thine olde wr...</td>\n",
       "      <td>None</td>\n",
       "      <td>None</td>\n",
       "      <td>None</td>\n",
       "      <td>...</td>\n",
       "      <td>None</td>\n",
       "      <td>None</td>\n",
       "      <td>None</td>\n",
       "      <td>None</td>\n",
       "      <td>None</td>\n",
       "      <td>None</td>\n",
       "      <td>None</td>\n",
       "      <td>None</td>\n",
       "      <td>None</td>\n",
       "      <td>None</td>\n",
       "    </tr>\n",
       "    <tr>\n",
       "      <th>torosemounde</th>\n",
       "      <td>madame, ye ben of al beaute shryne\\nas fer as ...</td>\n",
       "      <td>chaucer</td>\n",
       "      <td>period 15</td>\n",
       "      <td>madame, ye ben of al beaute shryne\\nas fer as ...</td>\n",
       "      <td>for thogh i wepe of teres ful a tyne,\\nyet may...</td>\n",
       "      <td>nas neuer pyk walwed in galauntyne\\nas i in lo...</td>\n",
       "      <td>None</td>\n",
       "      <td>None</td>\n",
       "      <td>None</td>\n",
       "      <td>None</td>\n",
       "      <td>...</td>\n",
       "      <td>None</td>\n",
       "      <td>None</td>\n",
       "      <td>None</td>\n",
       "      <td>None</td>\n",
       "      <td>None</td>\n",
       "      <td>None</td>\n",
       "      <td>None</td>\n",
       "      <td>None</td>\n",
       "      <td>None</td>\n",
       "      <td>None</td>\n",
       "    </tr>\n",
       "    <tr>\n",
       "      <th>troiluscriseyde</th>\n",
       "      <td>and so bifel, whan comen was the tyme \\nof ape...</td>\n",
       "      <td>chaucer</td>\n",
       "      <td>period 15</td>\n",
       "      <td>and so bifel, whan comen was the tyme \\nof ape...</td>\n",
       "      <td>and to the temple, in al hir beste wyse, \\nin ...</td>\n",
       "      <td>among thise othere folk was criseyda, \\nin wid...</td>\n",
       "      <td>as was criseyde, as folk seyde everichone \\nth...</td>\n",
       "      <td>this troilus, as he was wont to gide \\nhis yon...</td>\n",
       "      <td>and in his walk ful faste he gan to wayten \\ni...</td>\n",
       "      <td>\"i have herd told, pardieux, of your lyvynge, ...</td>\n",
       "      <td>...</td>\n",
       "      <td>None</td>\n",
       "      <td>None</td>\n",
       "      <td>None</td>\n",
       "      <td>None</td>\n",
       "      <td>None</td>\n",
       "      <td>None</td>\n",
       "      <td>None</td>\n",
       "      <td>None</td>\n",
       "      <td>None</td>\n",
       "      <td>None</td>\n",
       "    </tr>\n",
       "    <tr>\n",
       "      <th>phillipsparrow</th>\n",
       "      <td>pla ce bo, \\nwho is there, who? \\ndi le xi, \\n...</td>\n",
       "      <td>skelton</td>\n",
       "      <td>period 15</td>\n",
       "      <td>pla ce bo, \\nwho is there, who? \\ndi le xi, \\n...</td>\n",
       "      <td>whan i remembre agayn \\nhow mi philyp was slay...</td>\n",
       "      <td>gib, i saye, our cat, \\nworrowyd her on that \\...</td>\n",
       "      <td>unneth i kest myne eyes \\ntowarde the cloudy s...</td>\n",
       "      <td>i syghed and i sobbed, \\nfor that i was robbed...</td>\n",
       "      <td>do mi nus, \\nhelpe nowe, swete jesus! \\nlevavi...</td>\n",
       "      <td>it was so prety a fole, \\nit wold syt on a sto...</td>\n",
       "      <td>...</td>\n",
       "      <td>None</td>\n",
       "      <td>None</td>\n",
       "      <td>None</td>\n",
       "      <td>None</td>\n",
       "      <td>None</td>\n",
       "      <td>None</td>\n",
       "      <td>None</td>\n",
       "      <td>None</td>\n",
       "      <td>None</td>\n",
       "      <td>None</td>\n",
       "    </tr>\n",
       "    <tr>\n",
       "      <th>mannerly</th>\n",
       "      <td>ay, beshrew you! by my fay, \\nthese wanton cle...</td>\n",
       "      <td>skelton</td>\n",
       "      <td>period 15</td>\n",
       "      <td>ay, beshrew you! by my fay, \\nthese wanton cle...</td>\n",
       "      <td>by god, ye be a pretty pode, \\nand i love you ...</td>\n",
       "      <td>ywis ye deal uncourteously; \\nwhat, would ye f...</td>\n",
       "      <td>walk forth your way, ye cost me nought; \\nnow ...</td>\n",
       "      <td>None</td>\n",
       "      <td>None</td>\n",
       "      <td>None</td>\n",
       "      <td>...</td>\n",
       "      <td>None</td>\n",
       "      <td>None</td>\n",
       "      <td>None</td>\n",
       "      <td>None</td>\n",
       "      <td>None</td>\n",
       "      <td>None</td>\n",
       "      <td>None</td>\n",
       "      <td>None</td>\n",
       "      <td>None</td>\n",
       "      <td>None</td>\n",
       "    </tr>\n",
       "  </tbody>\n",
       "</table>\n",
       "<p>5 rows × 39 columns</p>\n",
       "</div>"
      ],
      "text/plain": [
       "                                                              poem   author  \\\n",
       "title                                                                         \n",
       "truth            fle fro the pres, and dwelle with sothefastnes...  chaucer   \n",
       "torosemounde     madame, ye ben of al beaute shryne\\nas fer as ...  chaucer   \n",
       "troiluscriseyde  and so bifel, whan comen was the tyme \\nof ape...  chaucer   \n",
       "phillipsparrow   pla ce bo, \\nwho is there, who? \\ndi le xi, \\n...  skelton   \n",
       "mannerly         ay, beshrew you! by my fay, \\nthese wanton cle...  skelton   \n",
       "\n",
       "                    period                                                  0  \\\n",
       "title                                                                           \n",
       "truth            period 15  fle fro the pres, and dwelle with sothefastnes...   \n",
       "torosemounde     period 15  madame, ye ben of al beaute shryne\\nas fer as ...   \n",
       "troiluscriseyde  period 15  and so bifel, whan comen was the tyme \\nof ape...   \n",
       "phillipsparrow   period 15  pla ce bo, \\nwho is there, who? \\ndi le xi, \\n...   \n",
       "mannerly         period 15  ay, beshrew you! by my fay, \\nthese wanton cle...   \n",
       "\n",
       "                                                                 1  \\\n",
       "title                                                                \n",
       "truth            tempest the nought al croked to redresse,\\nin ...   \n",
       "torosemounde     for thogh i wepe of teres ful a tyne,\\nyet may...   \n",
       "troiluscriseyde  and to the temple, in al hir beste wyse, \\nin ...   \n",
       "phillipsparrow   whan i remembre agayn \\nhow mi philyp was slay...   \n",
       "mannerly         by god, ye be a pretty pode, \\nand i love you ...   \n",
       "\n",
       "                                                                 2  \\\n",
       "title                                                                \n",
       "truth                  that the is sent, receyve in buxumnesse;...   \n",
       "torosemounde     nas neuer pyk walwed in galauntyne\\nas i in lo...   \n",
       "troiluscriseyde  among thise othere folk was criseyda, \\nin wid...   \n",
       "phillipsparrow   gib, i saye, our cat, \\nworrowyd her on that \\...   \n",
       "mannerly         ywis ye deal uncourteously; \\nwhat, would ye f...   \n",
       "\n",
       "                                                                 3  \\\n",
       "title                                                                \n",
       "truth                  therfore, thou vache, leve thine olde wr...   \n",
       "torosemounde                                                  None   \n",
       "troiluscriseyde  as was criseyde, as folk seyde everichone \\nth...   \n",
       "phillipsparrow   unneth i kest myne eyes \\ntowarde the cloudy s...   \n",
       "mannerly         walk forth your way, ye cost me nought; \\nnow ...   \n",
       "\n",
       "                                                                 4  \\\n",
       "title                                                                \n",
       "truth                                                         None   \n",
       "torosemounde                                                  None   \n",
       "troiluscriseyde  this troilus, as he was wont to gide \\nhis yon...   \n",
       "phillipsparrow   i syghed and i sobbed, \\nfor that i was robbed...   \n",
       "mannerly                                                      None   \n",
       "\n",
       "                                                                 5  \\\n",
       "title                                                                \n",
       "truth                                                         None   \n",
       "torosemounde                                                  None   \n",
       "troiluscriseyde  and in his walk ful faste he gan to wayten \\ni...   \n",
       "phillipsparrow   do mi nus, \\nhelpe nowe, swete jesus! \\nlevavi...   \n",
       "mannerly                                                      None   \n",
       "\n",
       "                                                                 6  ...   \\\n",
       "title                                                               ...    \n",
       "truth                                                         None  ...    \n",
       "torosemounde                                                  None  ...    \n",
       "troiluscriseyde  \"i have herd told, pardieux, of your lyvynge, ...  ...    \n",
       "phillipsparrow   it was so prety a fole, \\nit wold syt on a sto...  ...    \n",
       "mannerly                                                      None  ...    \n",
       "\n",
       "                   26    27    28    29    30    31    32    33    34    35  \n",
       "title                                                                        \n",
       "truth            None  None  None  None  None  None  None  None  None  None  \n",
       "torosemounde     None  None  None  None  None  None  None  None  None  None  \n",
       "troiluscriseyde  None  None  None  None  None  None  None  None  None  None  \n",
       "phillipsparrow   None  None  None  None  None  None  None  None  None  None  \n",
       "mannerly         None  None  None  None  None  None  None  None  None  None  \n",
       "\n",
       "[5 rows x 39 columns]"
      ]
     },
     "execution_count": 424,
     "metadata": {},
     "output_type": "execute_result"
    }
   ],
   "source": [
    "set_index.head()"
   ]
  },
  {
   "cell_type": "code",
   "execution_count": null,
   "metadata": {},
   "outputs": [],
   "source": []
  }
 ],
 "metadata": {
  "kernelspec": {
   "display_name": "Python 3",
   "language": "python",
   "name": "python3"
  },
  "language_info": {
   "codemirror_mode": {
    "name": "ipython",
    "version": 3
   },
   "file_extension": ".py",
   "mimetype": "text/x-python",
   "name": "python",
   "nbconvert_exporter": "python",
   "pygments_lexer": "ipython3",
   "version": "3.7.1"
  }
 },
 "nbformat": 4,
 "nbformat_minor": 2
}
