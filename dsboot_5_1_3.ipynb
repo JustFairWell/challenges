{
 "cells": [
  {
   "cell_type": "code",
   "execution_count": 1,
   "metadata": {},
   "outputs": [],
   "source": [
    "class Node:\n",
    "    def __init__(self, val):\n",
    "        self.left = None\n",
    "        self.right = None\n",
    "        self.val = val"
   ]
  },
  {
   "cell_type": "code",
   "execution_count": 2,
   "metadata": {},
   "outputs": [],
   "source": [
    "def bfsbinary(root,fcn):\n",
    "    queue = [root]\n",
    "    while len(queue)>0:\n",
    "        if fcn(queue[0]):\n",
    "            return True\n",
    "        else:\n",
    "            temp=queue.pop(0)\n",
    "            if temp.getLeftBranch():\n",
    "                queue.append(temp.getLeftBranch())\n",
    "            if temp.getRightBranch():\n",
    "                queue.append(temp.getRightBranch())\n",
    "        return False"
   ]
  },
  {
   "cell_type": "code",
   "execution_count": 3,
   "metadata": {},
   "outputs": [],
   "source": [
    "import numpy as np"
   ]
  },
  {
   "cell_type": "code",
   "execution_count": 4,
   "metadata": {},
   "outputs": [
    {
     "data": {
      "text/plain": [
       "9.965784284662087"
      ]
     },
     "execution_count": 4,
     "metadata": {},
     "output_type": "execute_result"
    }
   ],
   "source": [
    "np.log2(1000)"
   ]
  },
  {
   "cell_type": "code",
   "execution_count": 5,
   "metadata": {},
   "outputs": [],
   "source": [
    "# def buildtree(val, min_val, max_val):\n",
    "#     if val <= min_val or val >= max_val:\n",
    "#         return None\n",
    "#     x = val//2\n",
    "#     root = Node(x)\n",
    "#     root.left = buildtree(x-1, min_val, x)\n",
    "#     root.right = buildtree(x+1, x, max_val)\n",
    "#     return root\n"
   ]
  },
  {
   "cell_type": "code",
   "execution_count": 12,
   "metadata": {},
   "outputs": [],
   "source": [
    "def bfs(node_b):\n",
    "    queue = []\n",
    "    if node_b:\n",
    "        queue.append(node_b)\n",
    "    while len(queue) > 0:\n",
    "        node = queue.pop(0)\n",
    "        if node and node.left:\n",
    "            queue.append(node.left)\n",
    "        if node and node.right:\n",
    "            queue.append(node.right)\n",
    "        print(node.val)"
   ]
  },
  {
   "cell_type": "code",
   "execution_count": 8,
   "metadata": {},
   "outputs": [],
   "source": [
    "def buildTree(min_val, max_val):\n",
    "    while min_val < max_val:\n",
    "        x = (max_val + min_val) // 2\n",
    "        print(\"min:{}, max:{}, x:{}\".format(min_val, max_val, x))\n",
    "        node = Node(x)\n",
    "        node.left = buildTree(min_val, x)\n",
    "        node.right = buildTree(x+1, max_val)\n",
    "        return node"
   ]
  },
  {
   "cell_type": "code",
   "execution_count": 10,
   "metadata": {},
   "outputs": [
    {
     "name": "stdout",
     "output_type": "stream",
     "text": [
      "min:0, max:15, x:7\n",
      "min:0, max:7, x:3\n",
      "min:0, max:3, x:1\n",
      "min:0, max:1, x:0\n",
      "min:2, max:3, x:2\n",
      "min:4, max:7, x:5\n",
      "min:4, max:5, x:4\n",
      "min:6, max:7, x:6\n",
      "min:8, max:15, x:11\n",
      "min:8, max:11, x:9\n",
      "min:8, max:9, x:8\n",
      "min:10, max:11, x:10\n",
      "min:12, max:15, x:13\n",
      "min:12, max:13, x:12\n",
      "min:14, max:15, x:14\n"
     ]
    }
   ],
   "source": [
    "assign = buildTree(0,15)"
   ]
  },
  {
   "cell_type": "code",
   "execution_count": 13,
   "metadata": {},
   "outputs": [
    {
     "name": "stdout",
     "output_type": "stream",
     "text": [
      "7\n",
      "3\n",
      "11\n",
      "1\n",
      "5\n",
      "9\n",
      "13\n",
      "0\n",
      "2\n",
      "4\n",
      "6\n",
      "8\n",
      "10\n",
      "12\n",
      "14\n"
     ]
    }
   ],
   "source": [
    "bfs(assign)"
   ]
  },
  {
   "cell_type": "code",
   "execution_count": null,
   "metadata": {},
   "outputs": [],
   "source": []
  }
 ],
 "metadata": {
  "kernelspec": {
   "display_name": "Python 3",
   "language": "python",
   "name": "python3"
  },
  "language_info": {
   "codemirror_mode": {
    "name": "ipython",
    "version": 3
   },
   "file_extension": ".py",
   "mimetype": "text/x-python",
   "name": "python",
   "nbconvert_exporter": "python",
   "pygments_lexer": "ipython3",
   "version": "3.7.1"
  }
 },
 "nbformat": 4,
 "nbformat_minor": 2
}
