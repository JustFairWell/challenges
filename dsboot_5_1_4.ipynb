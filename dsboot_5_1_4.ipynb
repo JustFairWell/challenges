{
 "cells": [
  {
   "cell_type": "code",
   "execution_count": 1,
   "metadata": {},
   "outputs": [],
   "source": [
    "import pandas as pd\n",
    "import numpy as np"
   ]
  },
  {
   "cell_type": "code",
   "execution_count": 2,
   "metadata": {},
   "outputs": [],
   "source": [
    "# projecto euler 1\n",
    "num_list = []\n",
    "for i in range(1000):\n",
    "    if i%3 == 0:\n",
    "        num_list.append(i)\n",
    "    elif i%5 == 0:\n",
    "        num_list.append(i)\n",
    "    else:\n",
    "        next"
   ]
  },
  {
   "cell_type": "code",
   "execution_count": 3,
   "metadata": {},
   "outputs": [
    {
     "data": {
      "text/plain": [
       "233168"
      ]
     },
     "execution_count": 3,
     "metadata": {},
     "output_type": "execute_result"
    }
   ],
   "source": [
    "np.sum(num_list)"
   ]
  },
  {
   "cell_type": "code",
   "execution_count": 4,
   "metadata": {},
   "outputs": [],
   "source": [
    "# project euler 2\n",
    "fib_list = []\n",
    "fib_list.append(1)\n",
    "fib_list.append(2)\n",
    "for i in range(2,32): \n",
    "    num_next = fib_list[i-1] + fib_list[i-2]\n",
    "    if num_next > 4000000:\n",
    "        break\n",
    "    else:\n",
    "        fib_list.append(num_next)"
   ]
  },
  {
   "cell_type": "code",
   "execution_count": 5,
   "metadata": {},
   "outputs": [],
   "source": [
    "fib_even = []\n",
    "for i in fib_list:\n",
    "    if i % 2 == 0:\n",
    "        fib_even.append(i)"
   ]
  },
  {
   "cell_type": "code",
   "execution_count": 6,
   "metadata": {},
   "outputs": [
    {
     "data": {
      "text/plain": [
       "4613732"
      ]
     },
     "execution_count": 6,
     "metadata": {},
     "output_type": "execute_result"
    }
   ],
   "source": [
    "np.sum(fib_even)"
   ]
  },
  {
   "cell_type": "code",
   "execution_count": 9,
   "metadata": {},
   "outputs": [
    {
     "name": "stdout",
     "output_type": "stream",
     "text": [
      "Fibonacci sequence upto 34 :\n",
      "1 , 2 , 3 , 5 , 8 , 13 , 21 , 34 , 55 , 89 , 144 , 233 , 377 , 610 , 987 , 1597 , 2584 , 4181 , 6765 , 10946 , 17711 , 28657 , 46368 , 75025 , 121393 , 196418 , 317811 , 514229 , 832040 , 1346269 , 2178309 , 3524578 , 5702887 , 9227465 , "
     ]
    }
   ],
   "source": [
    "nterms = 34\n",
    "n1 = 1\n",
    "n2 = 2\n",
    "count = 0\n",
    "\n",
    "# check if the number of terms is valid\n",
    "if nterms <= 0:\n",
    "   print(\"Please enter a positive integer\")\n",
    "elif nterms == 1:\n",
    "   print(\"Fibonacci sequence upto\",nterms,\":\")\n",
    "   print(n1)\n",
    "else:\n",
    "   print(\"Fibonacci sequence upto\",nterms,\":\")\n",
    "   while count < nterms:\n",
    "       print(n1,end=' , ')\n",
    "       nth = n1 + n2\n",
    "       # update values\n",
    "       n1 = n2\n",
    "       n2 = nth\n",
    "       count += 1"
   ]
  },
  {
   "cell_type": "code",
   "execution_count": 41,
   "metadata": {},
   "outputs": [],
   "source": [
    "half = 600851475143//2"
   ]
  },
  {
   "cell_type": "code",
   "execution_count": 10,
   "metadata": {},
   "outputs": [],
   "source": [
    "pali = []\n",
    "for i in range(900,999):\n",
    "    for j in range(900,999):\n",
    "        n = i * j\n",
    "        pali.append(n)        "
   ]
  },
  {
   "cell_type": "code",
   "execution_count": 14,
   "metadata": {},
   "outputs": [
    {
     "name": "stdout",
     "output_type": "stream",
     "text": [
      "906609 found in 0.10926318168640137 seconds\n"
     ]
    }
   ],
   "source": [
    "import time\n",
    " \n",
    "def find_max_palindrome(min=100,max=999):\n",
    "    max_palindrome = 0\n",
    "    for a in range(min,max + 1):\n",
    "        for b in range(a + 1, max + 1): # avoid duplicates\n",
    "            prod = a*b\n",
    "            if prod > max_palindrome and str(prod)==(str(prod)[::-1]):\n",
    "                max_palindrome = prod\n",
    "    return max_palindrome\n",
    " \n",
    "start = time.time()\n",
    "L = find_max_palindrome()\n",
    "elapsed = (time.time() - start)\n",
    " \n",
    "print(\"%s found in %s seconds\" % (L,elapsed))"
   ]
  },
  {
   "cell_type": "code",
   "execution_count": 18,
   "metadata": {},
   "outputs": [
    {
     "name": "stdout",
     "output_type": "stream",
     "text": [
      "result 6857 returned after 92.81309080123901 seconds (100,000 iterations).\n"
     ]
    }
   ],
   "source": [
    "# project euler 4\n",
    "\n",
    "def largest_prime_factor(n):\n",
    " \n",
    "    largest_factor = 1\n",
    " \n",
    "    # remove any factors of 2 first\n",
    "    while n % 2 == 0:\n",
    "        largest_factor = 2\n",
    "        n = n/2\n",
    " \n",
    "    # now look at odd factors\n",
    "    p = 3\n",
    "    while n != 1:\n",
    "        while n % p == 0:\n",
    "            largest_factor = p\n",
    "            n = n/p\n",
    "        p += 2\n",
    " \n",
    "    return largest_factor\n",
    " \n",
    "start = time.time()\n",
    "for i in range(100000): a = largest_prime_factor(600851475143)\n",
    "elapsed = (time.time() - start)\n",
    " \n",
    "print(\"result %s returned after %s seconds (100,000 iterations).\" % (a, elapsed))"
   ]
  },
  {
   "cell_type": "code",
   "execution_count": 20,
   "metadata": {},
   "outputs": [
    {
     "name": "stdout",
     "output_type": "stream",
     "text": [
      "result 232792560 returned in 0.0 seconds.\n"
     ]
    }
   ],
   "source": [
    "# function to factor a given positive integer n\n",
    "def factors(n):\n",
    "    factors = []\n",
    "    # remove any factors of 2 first\n",
    "    while n % 2 == 0:\n",
    "        factors.append(2)\n",
    "        n = n/2\n",
    "    # now look for odd factors\n",
    "    p = 3\n",
    "    while n != 1:\n",
    "        while n % p == 0:\n",
    "            factors.append(p)\n",
    "            n = n/p\n",
    "        p += 2\n",
    "    return factors\n",
    " \n",
    "# merge two lists of factors based on maximum multiplicities\n",
    "def factor_append(factors,new):\n",
    "    if len(factors) == 0: return new\n",
    "    for i in range(len(new)):\n",
    "        if i > 0 and new[i] == new[i-1]: continue\n",
    "        new_count = new.count(new[i])\n",
    "        old_count = factors.count(new[i])\n",
    "        if new_count > old_count:\n",
    "            for j in range(new_count - old_count): factors.append(new[i])\n",
    "    factors.sort()\n",
    "    return factors\n",
    " \n",
    "# find the smallest positive evenly divisible number for a positive integer n\n",
    "def smallest_evenly_divisible(num):\n",
    "    F = []\n",
    "    for i in range(1,num + 1):\n",
    "        F = factor_append(F,factors(i))\n",
    "    product = 1\n",
    "    for i in F: product *= i\n",
    "    return product\n",
    " \n",
    "start = time.time()\n",
    "product = smallest_evenly_divisible(20)\n",
    "elapsed = (time.time() - start)\n",
    " \n",
    "print(\"result %s returned in %s seconds.\" % (product,elapsed))"
   ]
  },
  {
   "cell_type": "code",
   "execution_count": 31,
   "metadata": {},
   "outputs": [],
   "source": [
    "# project euler 6\n",
    "summed = []\n",
    "squared = []\n",
    "\n",
    "for i in range(1,101):\n",
    "    summed.append(i)\n",
    "    sq = i**2\n",
    "    squared.append(sq)\n",
    "    \n",
    "big = sum(summed)**2"
   ]
  },
  {
   "cell_type": "code",
   "execution_count": 32,
   "metadata": {},
   "outputs": [
    {
     "name": "stdout",
     "output_type": "stream",
     "text": [
      "[1, 4, 9, 16, 25, 36, 49, 64, 81, 100, 121, 144, 169, 196, 225, 256, 289, 324, 361, 400, 441, 484, 529, 576, 625, 676, 729, 784, 841, 900, 961, 1024, 1089, 1156, 1225, 1296, 1369, 1444, 1521, 1600, 1681, 1764, 1849, 1936, 2025, 2116, 2209, 2304, 2401, 2500, 2601, 2704, 2809, 2916, 3025, 3136, 3249, 3364, 3481, 3600, 3721, 3844, 3969, 4096, 4225, 4356, 4489, 4624, 4761, 4900, 5041, 5184, 5329, 5476, 5625, 5776, 5929, 6084, 6241, 6400, 6561, 6724, 6889, 7056, 7225, 7396, 7569, 7744, 7921, 8100, 8281, 8464, 8649, 8836, 9025, 9216, 9409, 9604, 9801, 10000]\n"
     ]
    }
   ],
   "source": [
    "small = sum(squared)\n",
    "print(squared)"
   ]
  },
  {
   "cell_type": "code",
   "execution_count": 33,
   "metadata": {},
   "outputs": [
    {
     "data": {
      "text/plain": [
       "25164150"
      ]
     },
     "execution_count": 33,
     "metadata": {},
     "output_type": "execute_result"
    }
   ],
   "source": [
    "def primes(n): \n",
    "    if n==2: return [2]\n",
    "    elif n<2: return []\n",
    "    s=range(3,n+1,2)\n",
    "    mroot = n ** 0.5\n",
    "    half=(n+1)/2-1\n",
    "    i=0\n",
    "    m=3\n",
    "    while m <= mroot:\n",
    "        if s[i]:\n",
    "            j=(m*m-3)/2\n",
    "            s[j]=0\n",
    "            while j<half:\n",
    "                s[j]=0\n",
    "                j+=m\n",
    "        i=i+1\n",
    "        m=2*i+3\n",
    "    return [2]+[x for x in s if x]big-small"
   ]
  },
  {
   "cell_type": "code",
   "execution_count": 41,
   "metadata": {},
   "outputs": [],
   "source": [
    "# project eular 7\n",
    "prime_list = []\n",
    "for num in range(1,100000):\n",
    "   # prime numbers are greater than 1\n",
    "   if num > 1:\n",
    "       for i in range(2,num):\n",
    "           if (num % i) == 0:\n",
    "               break\n",
    "       else:\n",
    "           prime_list.append(num)"
   ]
  },
  {
   "cell_type": "code",
   "execution_count": 44,
   "metadata": {},
   "outputs": [
    {
     "data": {
      "text/plain": [
       "10453"
      ]
     },
     "execution_count": 44,
     "metadata": {},
     "output_type": "execute_result"
    }
   ],
   "source": [
    "len(prime_list)"
   ]
  },
  {
   "cell_type": "code",
   "execution_count": 43,
   "metadata": {},
   "outputs": [],
   "source": [
    "for num in range(100000,110000):\n",
    "   # prime numbers are greater than 1\n",
    "   if num > 1:\n",
    "       for i in range(2,num):\n",
    "           if (num % i) == 0:\n",
    "               break\n",
    "       else:\n",
    "           prime_list.append(num)"
   ]
  },
  {
   "cell_type": "code",
   "execution_count": 45,
   "metadata": {},
   "outputs": [
    {
     "data": {
      "text/plain": [
       "104743"
      ]
     },
     "execution_count": 45,
     "metadata": {},
     "output_type": "execute_result"
    }
   ],
   "source": [
    "prime_list[10000]"
   ]
  },
  {
   "cell_type": "code",
   "execution_count": 52,
   "metadata": {},
   "outputs": [],
   "source": [
    "n =7316717653133062491922511967442657474235534919493496983520312774506326239578318016984801869478851843858615607891129494954595017379583319528532088055111254069874715852386305071569329096329522744304355766896648950445244523161731856403098711121722383113622298934233803081353362766142828064444866452387493035890729629049156044077239071381051585930796086670172427121883998797908792274921901699720888093776657273330010533678812202354218097512545405947522435258490771167055601360483958644670632441572215539753697817977846174064955149290862569321978468622482839722413756570560574902614079729686524145351004748216637048440319989000889524345065854122758866688116427171479924442928230863465674813919123162824586178664583591245665294765456828489128831426076900422421902267105562632111110937054421750694165896040807198403850962455444362981230987879927244284909188845801561660979191338754992005240636899125607176060588611646710940507754100225698315520005593572972571636269561882670428252483600823257530420752963450\n",
    "num_list = [int(d) for d in str(n)]"
   ]
  },
  {
   "cell_type": "code",
   "execution_count": 53,
   "metadata": {},
   "outputs": [
    {
     "data": {
      "text/plain": [
       "1000"
      ]
     },
     "execution_count": 53,
     "metadata": {},
     "output_type": "execute_result"
    }
   ],
   "source": [
    "len(num_list)"
   ]
  },
  {
   "cell_type": "code",
   "execution_count": 63,
   "metadata": {},
   "outputs": [
    {
     "name": "stdout",
     "output_type": "stream",
     "text": [
      "23514624000\n",
      "time: 85863.7822458744 seconds\n"
     ]
    }
   ],
   "source": [
    "# project eular 8\n",
    "prod = 0\n",
    "for i in range(len(num_list)-12):\n",
    "    p = int(num_list[i])*int(num_list[i+1])*int(num_list[i+2])*int(num_list[i+3])*int(num_list[i+4])*int(num_list[i+5])*int(num_list[i+6])*int(num_list[i+7])*int(num_list[i+8])*int(num_list[i+9])*int(num_list[i+10])*int(num_list[i+11])*int(num_list[i+12])\n",
    "    if p > prod: prod = p\n",
    "print(prod)\n",
    " \n",
    "elapsed = (time.time() - start)\n",
    " \n",
    "print(\"time: %s seconds\" % elapsed)"
   ]
  },
  {
   "cell_type": "code",
   "execution_count": 65,
   "metadata": {},
   "outputs": [
    {
     "name": "stdout",
     "output_type": "stream",
     "text": [
      "found 31875000 in 0.4304330348968506 seconds\n"
     ]
    }
   ],
   "source": [
    "# project eular 9\n",
    "def prod_triplet_w_sum(n):\n",
    "    for i in range(1,n,1):\n",
    "        for j in range(1,n-i,1):\n",
    "            k = n-i-j\n",
    "            if i**2+j**2==k**2:\n",
    "                return i*j*k\n",
    "    return 0\n",
    " \n",
    "start = time.time()\n",
    "product = prod_triplet_w_sum(1000)\n",
    "elapsed = (time.time() - start)\n",
    " \n",
    "print(\"found %s in %s seconds\" % (product,elapsed))"
   ]
  },
  {
   "cell_type": "code",
   "execution_count": 76,
   "metadata": {},
   "outputs": [
    {
     "name": "stdout",
     "output_type": "stream",
     "text": [
      "found 142913828922 in 0.5149693489074707 seconds\n"
     ]
    }
   ],
   "source": [
    "# project euler 10\n",
    "def prime_sum(n):\n",
    "    if n < 2: return 0\n",
    "    if n == 2: return 2\n",
    "    if n % 2 == 0: n += 1\n",
    "    primes = [True] * n\n",
    "    primes[0],primes[1] = [None] * 2\n",
    "    sum = 0\n",
    "    for ind,val in enumerate(primes):\n",
    "        if val is True and ind > n ** 0.5 + 1:\n",
    "            sum += ind\n",
    "        elif val is True:\n",
    "            primes[ind*2::ind] = [False] * (((n - 1)//ind) - 1)\n",
    "            sum += ind\n",
    "    return sum\n",
    " \n",
    "start = time.time()\n",
    "sum = prime_sum(2000000)\n",
    "elapsed = (time.time() - start)\n",
    " \n",
    "print(\"found %s in %s seconds\" % (sum,elapsed))"
   ]
  },
  {
   "cell_type": "code",
   "execution_count": null,
   "metadata": {},
   "outputs": [],
   "source": []
  },
  {
   "cell_type": "code",
   "execution_count": null,
   "metadata": {},
   "outputs": [],
   "source": []
  }
 ],
 "metadata": {
  "kernelspec": {
   "display_name": "Python 3",
   "language": "python",
   "name": "python3"
  },
  "language_info": {
   "codemirror_mode": {
    "name": "ipython",
    "version": 3
   },
   "file_extension": ".py",
   "mimetype": "text/x-python",
   "name": "python",
   "nbconvert_exporter": "python",
   "pygments_lexer": "ipython3",
   "version": "3.7.1"
  }
 },
 "nbformat": 4,
 "nbformat_minor": 2
}
